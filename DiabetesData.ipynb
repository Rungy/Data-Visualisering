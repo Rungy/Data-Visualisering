{
 "cells": [
  {
   "cell_type": "markdown",
   "id": "d32e2b9e-dad3-49e3-a9d4-b19d0aca62dc",
   "metadata": {},
   "source": [
    "# Diabetes Data Visualisering"
   ]
  },
  {
   "cell_type": "markdown",
   "id": "3b27cff3-91d0-4e7e-be0d-10678dbfdf07",
   "metadata": {},
   "source": [
    "### Importera alla språkbiblotek"
   ]
  },
  {
   "cell_type": "code",
   "execution_count": 22,
   "id": "152ef5ce-b3ac-493d-8d13-4e9847986667",
   "metadata": {},
   "outputs": [],
   "source": [
    "import pandas as pd\n",
    "import numpy as np\n",
    "import matplotlib.pyplot as plt"
   ]
  },
  {
   "cell_type": "markdown",
   "id": "2b9ee154-14dc-4b0d-82aa-dccd4eb22264",
   "metadata": {},
   "source": [
    "### Ta bort alla orelevanta features"
   ]
  },
  {
   "cell_type": "code",
   "execution_count": 23,
   "id": "fbfcb9f3-c69c-42ac-be47-c5812fdf703a",
   "metadata": {},
   "outputs": [
    {
     "data": {
      "text/html": [
       "<div>\n",
       "<style scoped>\n",
       "    .dataframe tbody tr th:only-of-type {\n",
       "        vertical-align: middle;\n",
       "    }\n",
       "\n",
       "    .dataframe tbody tr th {\n",
       "        vertical-align: top;\n",
       "    }\n",
       "\n",
       "    .dataframe thead th {\n",
       "        text-align: right;\n",
       "    }\n",
       "</style>\n",
       "<table border=\"1\" class=\"dataframe\">\n",
       "  <thead>\n",
       "    <tr style=\"text-align: right;\">\n",
       "      <th></th>\n",
       "      <th>Unnamed: 0</th>\n",
       "      <th>Age</th>\n",
       "      <th>BMI</th>\n",
       "      <th>Waist_Circumference</th>\n",
       "      <th>Fasting_Blood_Glucose</th>\n",
       "      <th>HbA1c</th>\n",
       "      <th>Blood_Pressure_Systolic</th>\n",
       "      <th>Blood_Pressure_Diastolic</th>\n",
       "      <th>Cholesterol_Total</th>\n",
       "      <th>Cholesterol_HDL</th>\n",
       "      <th>Cholesterol_LDL</th>\n",
       "      <th>GGT</th>\n",
       "      <th>Serum_Urate</th>\n",
       "      <th>Physical_Activity_Level</th>\n",
       "      <th>Dietary_Intake_Calories</th>\n",
       "      <th>Alcohol_Consumption</th>\n",
       "      <th>Smoking_Status</th>\n",
       "      <th>Family_History_of_Diabetes</th>\n",
       "      <th>Previous_Gestational_Diabetes</th>\n",
       "    </tr>\n",
       "  </thead>\n",
       "  <tbody>\n",
       "    <tr>\n",
       "      <th>0</th>\n",
       "      <td>0</td>\n",
       "      <td>58</td>\n",
       "      <td>35.8</td>\n",
       "      <td>83.4</td>\n",
       "      <td>123.9</td>\n",
       "      <td>10.9</td>\n",
       "      <td>152</td>\n",
       "      <td>114</td>\n",
       "      <td>197.8</td>\n",
       "      <td>50.2</td>\n",
       "      <td>99.2</td>\n",
       "      <td>37.5</td>\n",
       "      <td>7.2</td>\n",
       "      <td>Moderate</td>\n",
       "      <td>1538</td>\n",
       "      <td>Moderate</td>\n",
       "      <td>Never</td>\n",
       "      <td>0</td>\n",
       "      <td>1</td>\n",
       "    </tr>\n",
       "    <tr>\n",
       "      <th>1</th>\n",
       "      <td>1</td>\n",
       "      <td>48</td>\n",
       "      <td>24.1</td>\n",
       "      <td>71.4</td>\n",
       "      <td>183.7</td>\n",
       "      <td>12.8</td>\n",
       "      <td>103</td>\n",
       "      <td>91</td>\n",
       "      <td>261.6</td>\n",
       "      <td>62.0</td>\n",
       "      <td>146.4</td>\n",
       "      <td>88.5</td>\n",
       "      <td>6.1</td>\n",
       "      <td>Moderate</td>\n",
       "      <td>2653</td>\n",
       "      <td>Moderate</td>\n",
       "      <td>Current</td>\n",
       "      <td>0</td>\n",
       "      <td>1</td>\n",
       "    </tr>\n",
       "    <tr>\n",
       "      <th>2</th>\n",
       "      <td>2</td>\n",
       "      <td>34</td>\n",
       "      <td>25.0</td>\n",
       "      <td>113.8</td>\n",
       "      <td>142.0</td>\n",
       "      <td>14.5</td>\n",
       "      <td>179</td>\n",
       "      <td>104</td>\n",
       "      <td>261.0</td>\n",
       "      <td>32.1</td>\n",
       "      <td>164.1</td>\n",
       "      <td>56.2</td>\n",
       "      <td>6.9</td>\n",
       "      <td>Low</td>\n",
       "      <td>1684</td>\n",
       "      <td>Heavy</td>\n",
       "      <td>Former</td>\n",
       "      <td>1</td>\n",
       "      <td>0</td>\n",
       "    </tr>\n",
       "    <tr>\n",
       "      <th>3</th>\n",
       "      <td>3</td>\n",
       "      <td>62</td>\n",
       "      <td>32.7</td>\n",
       "      <td>100.4</td>\n",
       "      <td>167.4</td>\n",
       "      <td>8.8</td>\n",
       "      <td>176</td>\n",
       "      <td>118</td>\n",
       "      <td>183.4</td>\n",
       "      <td>41.1</td>\n",
       "      <td>84.0</td>\n",
       "      <td>34.4</td>\n",
       "      <td>5.4</td>\n",
       "      <td>Low</td>\n",
       "      <td>3796</td>\n",
       "      <td>Moderate</td>\n",
       "      <td>Never</td>\n",
       "      <td>1</td>\n",
       "      <td>0</td>\n",
       "    </tr>\n",
       "    <tr>\n",
       "      <th>4</th>\n",
       "      <td>4</td>\n",
       "      <td>27</td>\n",
       "      <td>33.5</td>\n",
       "      <td>110.8</td>\n",
       "      <td>146.4</td>\n",
       "      <td>7.1</td>\n",
       "      <td>122</td>\n",
       "      <td>97</td>\n",
       "      <td>203.2</td>\n",
       "      <td>53.9</td>\n",
       "      <td>92.8</td>\n",
       "      <td>81.9</td>\n",
       "      <td>7.4</td>\n",
       "      <td>Moderate</td>\n",
       "      <td>3161</td>\n",
       "      <td>Heavy</td>\n",
       "      <td>Current</td>\n",
       "      <td>0</td>\n",
       "      <td>0</td>\n",
       "    </tr>\n",
       "    <tr>\n",
       "      <th>...</th>\n",
       "      <td>...</td>\n",
       "      <td>...</td>\n",
       "      <td>...</td>\n",
       "      <td>...</td>\n",
       "      <td>...</td>\n",
       "      <td>...</td>\n",
       "      <td>...</td>\n",
       "      <td>...</td>\n",
       "      <td>...</td>\n",
       "      <td>...</td>\n",
       "      <td>...</td>\n",
       "      <td>...</td>\n",
       "      <td>...</td>\n",
       "      <td>...</td>\n",
       "      <td>...</td>\n",
       "      <td>...</td>\n",
       "      <td>...</td>\n",
       "      <td>...</td>\n",
       "      <td>...</td>\n",
       "    </tr>\n",
       "    <tr>\n",
       "      <th>9995</th>\n",
       "      <td>9995</td>\n",
       "      <td>45</td>\n",
       "      <td>39.4</td>\n",
       "      <td>114.0</td>\n",
       "      <td>76.2</td>\n",
       "      <td>13.4</td>\n",
       "      <td>109</td>\n",
       "      <td>82</td>\n",
       "      <td>187.7</td>\n",
       "      <td>60.3</td>\n",
       "      <td>88.7</td>\n",
       "      <td>19.1</td>\n",
       "      <td>6.1</td>\n",
       "      <td>Low</td>\n",
       "      <td>3582</td>\n",
       "      <td>NaN</td>\n",
       "      <td>Former</td>\n",
       "      <td>1</td>\n",
       "      <td>1</td>\n",
       "    </tr>\n",
       "    <tr>\n",
       "      <th>9996</th>\n",
       "      <td>9996</td>\n",
       "      <td>41</td>\n",
       "      <td>21.0</td>\n",
       "      <td>71.3</td>\n",
       "      <td>77.1</td>\n",
       "      <td>12.9</td>\n",
       "      <td>154</td>\n",
       "      <td>72</td>\n",
       "      <td>234.3</td>\n",
       "      <td>72.3</td>\n",
       "      <td>200.0</td>\n",
       "      <td>37.1</td>\n",
       "      <td>3.5</td>\n",
       "      <td>Low</td>\n",
       "      <td>2206</td>\n",
       "      <td>NaN</td>\n",
       "      <td>Never</td>\n",
       "      <td>1</td>\n",
       "      <td>1</td>\n",
       "    </tr>\n",
       "    <tr>\n",
       "      <th>9997</th>\n",
       "      <td>9997</td>\n",
       "      <td>50</td>\n",
       "      <td>29.0</td>\n",
       "      <td>106.3</td>\n",
       "      <td>97.5</td>\n",
       "      <td>4.9</td>\n",
       "      <td>122</td>\n",
       "      <td>61</td>\n",
       "      <td>266.0</td>\n",
       "      <td>69.8</td>\n",
       "      <td>156.1</td>\n",
       "      <td>85.8</td>\n",
       "      <td>4.9</td>\n",
       "      <td>High</td>\n",
       "      <td>3175</td>\n",
       "      <td>Heavy</td>\n",
       "      <td>Former</td>\n",
       "      <td>1</td>\n",
       "      <td>1</td>\n",
       "    </tr>\n",
       "    <tr>\n",
       "      <th>9998</th>\n",
       "      <td>9998</td>\n",
       "      <td>62</td>\n",
       "      <td>27.3</td>\n",
       "      <td>119.9</td>\n",
       "      <td>89.0</td>\n",
       "      <td>11.5</td>\n",
       "      <td>99</td>\n",
       "      <td>115</td>\n",
       "      <td>172.3</td>\n",
       "      <td>74.2</td>\n",
       "      <td>110.9</td>\n",
       "      <td>25.3</td>\n",
       "      <td>5.2</td>\n",
       "      <td>High</td>\n",
       "      <td>3478</td>\n",
       "      <td>Moderate</td>\n",
       "      <td>Never</td>\n",
       "      <td>1</td>\n",
       "      <td>0</td>\n",
       "    </tr>\n",
       "    <tr>\n",
       "      <th>9999</th>\n",
       "      <td>9999</td>\n",
       "      <td>29</td>\n",
       "      <td>20.6</td>\n",
       "      <td>102.0</td>\n",
       "      <td>70.8</td>\n",
       "      <td>14.5</td>\n",
       "      <td>156</td>\n",
       "      <td>64</td>\n",
       "      <td>277.9</td>\n",
       "      <td>38.0</td>\n",
       "      <td>108.1</td>\n",
       "      <td>68.5</td>\n",
       "      <td>6.0</td>\n",
       "      <td>Low</td>\n",
       "      <td>2918</td>\n",
       "      <td>Heavy</td>\n",
       "      <td>Former</td>\n",
       "      <td>1</td>\n",
       "      <td>0</td>\n",
       "    </tr>\n",
       "  </tbody>\n",
       "</table>\n",
       "<p>10000 rows × 19 columns</p>\n",
       "</div>"
      ],
      "text/plain": [
       "      Unnamed: 0  Age   BMI  Waist_Circumference  Fasting_Blood_Glucose  \\\n",
       "0              0   58  35.8                 83.4                  123.9   \n",
       "1              1   48  24.1                 71.4                  183.7   \n",
       "2              2   34  25.0                113.8                  142.0   \n",
       "3              3   62  32.7                100.4                  167.4   \n",
       "4              4   27  33.5                110.8                  146.4   \n",
       "...          ...  ...   ...                  ...                    ...   \n",
       "9995        9995   45  39.4                114.0                   76.2   \n",
       "9996        9996   41  21.0                 71.3                   77.1   \n",
       "9997        9997   50  29.0                106.3                   97.5   \n",
       "9998        9998   62  27.3                119.9                   89.0   \n",
       "9999        9999   29  20.6                102.0                   70.8   \n",
       "\n",
       "      HbA1c  Blood_Pressure_Systolic  Blood_Pressure_Diastolic  \\\n",
       "0      10.9                      152                       114   \n",
       "1      12.8                      103                        91   \n",
       "2      14.5                      179                       104   \n",
       "3       8.8                      176                       118   \n",
       "4       7.1                      122                        97   \n",
       "...     ...                      ...                       ...   \n",
       "9995   13.4                      109                        82   \n",
       "9996   12.9                      154                        72   \n",
       "9997    4.9                      122                        61   \n",
       "9998   11.5                       99                       115   \n",
       "9999   14.5                      156                        64   \n",
       "\n",
       "      Cholesterol_Total  Cholesterol_HDL  Cholesterol_LDL   GGT  Serum_Urate  \\\n",
       "0                 197.8             50.2             99.2  37.5          7.2   \n",
       "1                 261.6             62.0            146.4  88.5          6.1   \n",
       "2                 261.0             32.1            164.1  56.2          6.9   \n",
       "3                 183.4             41.1             84.0  34.4          5.4   \n",
       "4                 203.2             53.9             92.8  81.9          7.4   \n",
       "...                 ...              ...              ...   ...          ...   \n",
       "9995              187.7             60.3             88.7  19.1          6.1   \n",
       "9996              234.3             72.3            200.0  37.1          3.5   \n",
       "9997              266.0             69.8            156.1  85.8          4.9   \n",
       "9998              172.3             74.2            110.9  25.3          5.2   \n",
       "9999              277.9             38.0            108.1  68.5          6.0   \n",
       "\n",
       "     Physical_Activity_Level  Dietary_Intake_Calories Alcohol_Consumption  \\\n",
       "0                   Moderate                     1538            Moderate   \n",
       "1                   Moderate                     2653            Moderate   \n",
       "2                        Low                     1684               Heavy   \n",
       "3                        Low                     3796            Moderate   \n",
       "4                   Moderate                     3161               Heavy   \n",
       "...                      ...                      ...                 ...   \n",
       "9995                     Low                     3582                 NaN   \n",
       "9996                     Low                     2206                 NaN   \n",
       "9997                    High                     3175               Heavy   \n",
       "9998                    High                     3478            Moderate   \n",
       "9999                     Low                     2918               Heavy   \n",
       "\n",
       "     Smoking_Status  Family_History_of_Diabetes  Previous_Gestational_Diabetes  \n",
       "0             Never                           0                              1  \n",
       "1           Current                           0                              1  \n",
       "2            Former                           1                              0  \n",
       "3             Never                           1                              0  \n",
       "4           Current                           0                              0  \n",
       "...             ...                         ...                            ...  \n",
       "9995         Former                           1                              1  \n",
       "9996          Never                           1                              1  \n",
       "9997         Former                           1                              1  \n",
       "9998          Never                           1                              0  \n",
       "9999         Former                           1                              0  \n",
       "\n",
       "[10000 rows x 19 columns]"
      ]
     },
     "execution_count": 23,
     "metadata": {},
     "output_type": "execute_result"
    }
   ],
   "source": [
    "df = pd.read_csv('diabetes_dataset.csv')\n",
    "df2 = df.drop(['Sex', 'Ethnicity'], axis=1)\n",
    "df2\n"
   ]
  },
  {
   "cell_type": "markdown",
   "id": "740a3517-555d-4347-9dfc-fd7b8f5e400d",
   "metadata": {},
   "source": [
    "## Lägger till en column som diagnoserar folk med diabetes om de har en av de risk värdena högt"
   ]
  },
  {
   "cell_type": "code",
   "execution_count": 61,
   "id": "7e5b6f6c-03f7-4be0-adb8-136d4530d2d0",
   "metadata": {},
   "outputs": [],
   "source": [
    "df[\"target\"] = (\n",
    "    (df[\"Blood_Pressure_Systolic\"] >= 180) |\n",
    "    (df[\"Blood_Pressure_Diastolic\"] >= 110) |\n",
    "    (df[\"Fasting_Blood_Glucose\"] >= 126)\n",
    ").astype(int)"
   ]
  },
  {
   "cell_type": "markdown",
   "id": "24359aaa-03b3-49f0-9b75-1b3133e2f159",
   "metadata": {},
   "source": [
    "### Alla listor för visualisering"
   ]
  },
  {
   "cell_type": "code",
   "execution_count": 36,
   "id": "17eb8463-ae87-484a-bd61-2b1060c6ffa7",
   "metadata": {},
   "outputs": [],
   "source": [
    "age_lista = []\n",
    "Family_History_of_Diabetes_lista = []\n",
    "Previous_Gestational_Diabetes_lista = []\n",
    "ageabove40_lista = []\n",
    "ageunder40_lista = []\n",
    "activity_lista = []\n",
    "activityint_lista = []\n",
    "activityabove40_lista = []\n",
    "activityunder40_lista = []\n",
    "calorieintake_lista =[]\n",
    "calorieintakeintabove40_lista = []\n",
    "calorieintakeintunder40_lista = []\n",
    "bloodpressuresystolic_lista = []\n",
    "bloodpressurediastolic_lista = []\n",
    "bloodglucose_lista =[]\n",
    "bloodpressuresystolicint_lista = []\n",
    "bloodpressurediastolicint_lista = []\n",
    "bloodglucoseint_lista =[]\n",
    "bloodpressuresystolicintabove40_lista = []\n",
    "bloodpressuresystolicintunder40_lista = []\n",
    "bloodpressurediastolicintabove40_lista = []\n",
    "bloodpressurediastolicintunder40_lista = []\n",
    "bloodglucoseintabove40_lista =[]\n",
    "bloodglucoseintunder40_lista =[]\n",
    "previousandfamily_diabetes_lista =[]\n",
    "previous_diabetes_lista = []\n",
    "family_diabetes_lista = []\n",
    "no_diabetes_lista = []"
   ]
  },
  {
   "cell_type": "markdown",
   "id": "35ddb81d-49ab-44a7-a9bc-55a315a06cbb",
   "metadata": {},
   "source": [
    "### Tar ut features och gör dom till listor"
   ]
  },
  {
   "cell_type": "code",
   "execution_count": 38,
   "id": "7a73b034-7996-462f-b733-7f039a97d4e3",
   "metadata": {},
   "outputs": [],
   "source": [
    "\n",
    "import csv\n",
    "\n",
    "with open('diabetes_dataset.csv', newline='') as file:\n",
    "    reader = csv.DictReader(file)\n",
    "    for rad in reader:\n",
    "        age_lista.append(rad['Age'])\n",
    "        activity_lista.append(rad['Physical_Activity_Level'])\n",
    "        calorieintake_lista.append(rad['Dietary_Intake_Calories'])\n",
    "        bloodpressuresystolic_lista.append(rad['Blood_Pressure_Systolic'])\n",
    "        bloodpressurediastolic_lista.append(rad['Blood_Pressure_Diastolic'])\n",
    "        bloodglucose_lista.append(rad['Fasting_Blood_Glucose'])\n",
    "        Family_History_of_Diabetes_lista.append(rad['Family_History_of_Diabetes'])\n",
    "        Previous_Gestational_Diabetes_lista.append(rad['Previous_Gestational_Diabetes'])\n"
   ]
  },
  {
   "cell_type": "markdown",
   "id": "81e21c7e-2685-4c69-8e20-3143355c28f8",
   "metadata": {},
   "source": [
    "### Tar innehållet i Activity list converterar de till numbers"
   ]
  },
  {
   "cell_type": "code",
   "execution_count": 39,
   "id": "c9ba856a-de68-4e85-8f5a-122934f05c79",
   "metadata": {},
   "outputs": [],
   "source": [
    "for i in activity_lista:\n",
    "    if i == 'Low':\n",
    "        activityint_lista.append(1)\n",
    "    elif i == 'Moderate':\n",
    "        activityint_lista.append(2)\n",
    "    elif i == 'High':\n",
    "        activityint_lista.append(3)\n"
   ]
  },
  {
   "cell_type": "markdown",
   "id": "ea4eb87f-9c91-47df-8db2-7a88b42b1760",
   "metadata": {},
   "source": [
    "### Converterar list inehållen till integrers"
   ]
  },
  {
   "cell_type": "code",
   "execution_count": 40,
   "id": "8ce8144c-94a3-4109-b9f5-463ee9752fbf",
   "metadata": {},
   "outputs": [],
   "source": [
    "ageint_lista = [int(x) for x in age_lista]\n",
    "calorieintakeint_lista = [int(x) for x in calorieintake_lista]\n",
    "bloodpressuresystolicint_lista = [int(x) for x in bloodpressuresystolic_lista]\n",
    "bloodpressurediastolicint_lista = [int(x) for x in bloodpressurediastolic_lista]\n",
    "bloodglucoseint_lista = [float(x) for x in bloodglucose_lista]\n",
    "Previous_Gestational_Diabetes_listaint = [int(x) for x in Previous_Gestational_Diabetes_lista]\n",
    "Family_History_of_Diabetes_listint = [int(x) for x in Family_History_of_Diabetes_lista]"
   ]
  },
  {
   "cell_type": "markdown",
   "id": "dada0e22-9d41-48d3-a0f1-6785144d185a",
   "metadata": {},
   "source": [
    "### Sepererar listorna till över 40 års åldern och under 40 års åldern"
   ]
  },
  {
   "cell_type": "code",
   "execution_count": 41,
   "id": "7fc18355-001f-4e55-9f3b-4f14251f3102",
   "metadata": {},
   "outputs": [],
   "source": [
    "for age, activity, calorie, systolic, diastolic, glucose in zip(ageint_lista, activityint_lista, calorieintakeint_lista, bloodpressuresystolicint_lista, bloodpressurediastolicint_lista, bloodglucoseint_lista):\n",
    "    if age >= 40:\n",
    "        ageabove40_lista.append(age)\n",
    "        activityabove40_lista.append(activity)\n",
    "        calorieintakeintabove40_lista.append(calorie)\n",
    "        bloodpressuresystolicintabove40_lista.append(systolic)\n",
    "        bloodpressurediastolicintabove40_lista.append(diastolic)\n",
    "        bloodglucoseintabove40_lista.append(glucose)\n",
    "        \n",
    "    else:\n",
    "        ageunder40_lista.append(age)\n",
    "        activityunder40_lista.append(activity)\n",
    "        calorieintakeintunder40_lista.append(calorie)\n",
    "        bloodpressuresystolicintunder40_lista.append(systolic)\n",
    "        bloodpressurediastolicintunder40_lista.append(diastolic)\n",
    "        bloodglucoseintunder40_lista.append(glucose)"
   ]
  },
  {
   "cell_type": "markdown",
   "id": "5ca44e87-d59f-454d-b121-ed7afde1cbf2",
   "metadata": {},
   "source": [
    "## Sepererar folk i olika kategorier beroende på om deras historia med diabetes"
   ]
  },
  {
   "cell_type": "code",
   "execution_count": 42,
   "id": "1705f0c1-4d26-4ac7-8a08-ee85b0fbca51",
   "metadata": {},
   "outputs": [],
   "source": [
    "for previous, family in zip(Previous_Gestational_Diabetes_listaint, Family_History_of_Diabetes_listint):\n",
    "    if previous == 1 and family == 1:\n",
    "        previousandfamily_diabetes_lista.append(1)\n",
    "\n",
    "    elif previous == 1 and family == 0:\n",
    "         previous_diabetes_lista.append(1)\n",
    "\n",
    "    elif previous == 0 and family == 1:\n",
    "        family_diabetes_lista.append(1)\n",
    "\n",
    "    elif previous == 0 and family == 0:\n",
    "        no_diabetes_lista.append(1)"
   ]
  },
  {
   "cell_type": "markdown",
   "id": "b1efbd9a-c43f-4e9e-a923-52aed755ff3c",
   "metadata": {},
   "source": [
    "## Får ut medel värde av listorna"
   ]
  },
  {
   "cell_type": "code",
   "execution_count": 54,
   "id": "bef82963-ec36-4c5d-b5fc-f8c5d3340570",
   "metadata": {},
   "outputs": [],
   "source": [
    "bloodglucoseintunder40medel_lista = sum(bloodglucoseintunder40_lista) / len(bloodglucoseintunder40_lista)\n",
    "bloodglucoseintabove40medel_lista = sum(bloodglucoseintabove40_lista) / len(bloodglucoseintabove40_lista)\n",
    "calorieintakeintunder40medel_lista = sum(calorieintakeintunder40_lista) / len(calorieintakeintunder40_lista)\n",
    "calorieintakeintabove40medel_lista = sum(calorieintakeintabove40_lista) / len(calorieintakeintabove40_lista)\n",
    "bloodpressurediastolicintundermedel40_lista = sum(bloodpressurediastolicintunder40_lista) / len(bloodpressurediastolicintunder40_lista)\n",
    "bloodpressurediastolicintabovemedel40_lista = sum(bloodpressurediastolicintabove40_lista) / len(bloodpressurediastolicintabove40_lista)\n",
    "bloodpressuresystolicintundermedel40_lista = sum(bloodpressuresystolicintunder40_lista) / len(bloodpressuresystolicintunder40_lista)\n",
    "bloodpressuresystolicintabovemedel40_lista = sum(bloodpressuresystolicintabove40_lista) / len(bloodpressuresystolicintabove40_lista)"
   ]
  },
  {
   "cell_type": "markdown",
   "id": "efa26393-4e4f-4e64-8e90-bdd31f1dcf49",
   "metadata": {},
   "source": [
    "# Visualisering"
   ]
  },
  {
   "cell_type": "markdown",
   "id": "109a866a-f23e-45c1-b8ec-15aff7220e84",
   "metadata": {},
   "source": [
    "## Medel kalorie intag för folk under och över 40 års åldern"
   ]
  },
  {
   "cell_type": "code",
   "execution_count": 46,
   "id": "638d8712-98d0-4250-9de7-6ff3d5b159f7",
   "metadata": {},
   "outputs": [
    {
     "data": {
      "image/png": "[encoded data removed]",
      "text/plain": [
       "<Figure size 640x480 with 1 Axes>"
      ]
     },
     "metadata": {},
     "output_type": "display_data"
    }
   ],
   "source": [
    "ålder3 = ['under 40', 'över 40']\n",
    "värden3 = [calorieintakeintunder40medel_lista, calorieintakeintabove40medel_lista]\n",
    "plt.bar(ålder3, värden3, color='lightgreen')\n",
    "plt.title(\"Kalorie intag\")\n",
    "plt.xlabel(\"Ålder\")\n",
    "plt.ylabel(\"Kalorier\")\n",
    "plt.grid(axis='y', linestyle=':', alpha=0.6)\n",
    "plt.show()"
   ]
  },
  {
   "cell_type": "markdown",
   "id": "fc2c015a-fc72-48b6-917d-1fa707b1b177",
   "metadata": {},
   "source": [
    "## Medel värde för systolisc och diastolic blood pressure för under och över 40 års åldern "
   ]
  },
  {
   "cell_type": "markdown",
   "id": "e44af769-0a42-4e0f-aee4-b595d414158d",
   "metadata": {},
   "source": [
    "#### Systoliskt < 120 mmHg och diastoliskt < 80 mmHg = optimalt blodtryck – idealt för hjärtats hälsa.\n",
    "#### Systoliskt 120–129 mmHg och diastoliskt 80–84 mmHg = normalt blodtryck – fortfarande hälsosamt.\n",
    "#### Systoliskt 130–139 mmHg och diastoliskt 85–89 mmHg = högt normalt – ökad risk, livsstilsförändringar rekommenderas.\n",
    "#### Systoliskt 140–159 mmHg och diastoliskt 90–99 mmHg = hypertoni grad 1 – mild form av högt blodtryck.\n",
    "#### Systoliskt 160–179 mmHg och diastoliskt 100–109 mmHg = hypertoni grad 2 – måttligt högt blodtryck.\n",
    "#### Systoliskt ≥ 180 mmHg och diastoliskt ≥ 110 mmHg = hypertoni grad 3 – allvarligt högt blodtryck, stor risk för stroke och hjärtinfarkt."
   ]
  },
  {
   "cell_type": "code",
   "execution_count": 58,
   "id": "e3102723-7180-4e09-a820-719b0f3eb740",
   "metadata": {},
   "outputs": [
    {
     "data": {
      "image/png": "[encoded data removed]",
      "text/plain": [
       "<Figure size 640x480 with 1 Axes>"
      ]
     },
     "metadata": {},
     "output_type": "display_data"
    }
   ],
   "source": [
    "ålder2 = ['u40 diastolic', 'över 40 diastolic', 'u40 systolic', 'över 40 systolic']\n",
    "värden2 = [bloodpressurediastolicintundermedel40_lista, bloodpressurediastolicintabovemedel40_lista, bloodpressuresystolicintundermedel40_lista, bloodpressuresystolicintabovemedel40_lista ]\n",
    "plt.bar(ålder2, värden2, color='lightgreen')\n",
    "plt.title(\"Blood tryck\")\n",
    "plt.xlabel(\"Ålder\")\n",
    "plt.ylabel(\"mmHg\")\n",
    "plt.grid(axis='y', linestyle=':', alpha=0.6)\n",
    "plt.show()"
   ]
  },
  {
   "cell_type": "markdown",
   "id": "19008ce3-9f96-4641-b9f1-a2c6dfb2a018",
   "metadata": {},
   "source": [
    "## Medel bloodglucose för folk under och över 40 års åldern"
   ]
  },
  {
   "cell_type": "markdown",
   "id": "722ac514-bea4-4047-bea8-5ae3ce447fc1",
   "metadata": {},
   "source": [
    "#### Ett fastande blodsocker under 100 mg/dL är normalt.\n",
    "\n",
    "#### 100–125 mg/dL = prediabetes – signal om att du bör se över livsstilen.\n",
    "\n",
    "#### 126 mg/dL eller mer = hög risk för diabetes (bekräftas med ytterligare tester)."
   ]
  },
  {
   "cell_type": "code",
   "execution_count": 59,
   "id": "8af1d0de-6e91-4608-864c-57b96317bbd9",
   "metadata": {},
   "outputs": [
    {
     "data": {
      "image/png": "[encoded data removed]",
      "text/plain": [
       "<Figure size 640x480 with 1 Axes>"
      ]
     },
     "metadata": {},
     "output_type": "display_data"
    }
   ],
   "source": [
    "ålder4 = ['under 40', 'över 40']\n",
    "värden4 = [bloodglucoseintunder40medel_lista, bloodglucoseintabove40medel_lista]\n",
    "plt.bar(ålder4, värden4, color='lightgreen')\n",
    "plt.title(\"Blood tryck\")\n",
    "plt.xlabel(\"Ålder\")\n",
    "plt.ylabel(\"mg/dL\")\n",
    "plt.grid(axis='y', linestyle=':', alpha=0.6)\n",
    "plt.show()"
   ]
  },
  {
   "cell_type": "markdown",
   "id": "42f6620b-6120-40ef-bcdf-5cd8660a418d",
   "metadata": {},
   "source": []
  },
  {
   "cell_type": "code",
   "execution_count": 60,
   "id": "52ba4a2b-ee65-4e70-9443-2e5b3e5cacfd",
   "metadata": {},
   "outputs": [
    {
     "data": {
      "image/png": "[encoded data removed]",
      "text/plain": [
       "<Figure size 640x480 with 1 Axes>"
      ]
     },
     "metadata": {},
     "output_type": "display_data"
    }
   ],
   "source": [
    "\n",
    "Historik = ['Familje och tidigare diabetes', 'Familje hsotirc av diabtets', 'tidigare haft diabetes', 'ingen relation med diabetes']\n",
    "storlekar = [sum(previousandfamily_diabetes_lista), sum(family_diabetes_lista),sum(previous_diabetes_lista) , sum(no_diabetes_lista)]  \n",
    "färger = ['red', 'yellow', 'orange', 'purple']\n",
    "explodera = (0.1, 0, 0, 0) \n",
    "\n",
    "\n",
    "plt.pie(storlekar, labels= Historik, colors=färger, explode=explodera,\n",
    "        autopct='%1.1f%%', startangle=90)\n",
    "\n",
    "plt.axis('equal') \n",
    "plt.title('Historic med diabetes')\n",
    "plt.show()"
   ]
  },
  {
   "cell_type": "markdown",
   "id": "8758f5dc-6c5b-44aa-beca-897c7366da46",
   "metadata": {},
   "source": [
    "# AI"
   ]
  },
  {
   "cell_type": "markdown",
   "id": "687fca10-5a18-4eae-9707-6e2250f4b6c6",
   "metadata": {},
   "source": [
    "## Vilket typ av problem har jag?"
   ]
  },
  {
   "cell_type": "markdown",
   "id": "bcdb281e-27c0-4bb0-8470-8be71cbd3ec3",
   "metadata": {},
   "source": [
    "### Jag vill räkna ut risken för att användare kan utveckla diabetes beroende på deras input"
   ]
  },
  {
   "cell_type": "markdown",
   "id": "3e2d1917-7e25-4aad-b778-9b7c4a21cc21",
   "metadata": {},
   "source": [
    "### Vad är features och target"
   ]
  },
  {
   "cell_type": "markdown",
   "id": "84516c18-2304-43f2-b0a7-d7f5726d7b14",
   "metadata": {},
   "source": [
    "### Välj rätt modell"
   ]
  },
  {
   "cell_type": "markdown",
   "id": "2355336d-005f-4999-9873-59b579cba679",
   "metadata": {},
   "source": [
    "### Träning o test data"
   ]
  },
  {
   "cell_type": "markdown",
   "id": "97f8dc5d-a295-4df7-ac3c-f03150f0bb05",
   "metadata": {},
   "source": [
    "### Anpassa modell score"
   ]
  },
  {
   "cell_type": "markdown",
   "id": "b9ae9b4c-1530-4786-95c7-f788f83672fc",
   "metadata": {},
   "source": [
    "### Förbätrra modell"
   ]
  },
  {
   "cell_type": "code",
   "execution_count": null,
   "id": "2fe16c7f-a96b-488f-9e4a-c903be644b2c",
   "metadata": {},
   "outputs": [],
   "source": []
  }
 ],
 "metadata": {
  "kernelspec": {
   "display_name": "Python 3 (ipykernel)",
   "language": "python",
   "name": "python3"
  },
  "language_info": {
   "codemirror_mode": {
    "name": "ipython",
    "version": 3
   },
   "file_extension": ".py",
   "mimetype": "text/x-python",
   "name": "python",
   "nbconvert_exporter": "python",
   "pygments_lexer": "ipython3",
   "version": "3.12.7"
  }
 },
 "nbformat": 4,
 "nbformat_minor": 5
}
