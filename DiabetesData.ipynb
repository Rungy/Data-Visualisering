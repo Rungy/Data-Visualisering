{
 "cells": [
  {
   "cell_type": "markdown",
   "id": "d32e2b9e-dad3-49e3-a9d4-b19d0aca62dc",
   "metadata": {},
   "source": [
    "# Diabetes Data Visualisering"
   ]
  },
  {
   "cell_type": "markdown",
   "id": "3b27cff3-91d0-4e7e-be0d-10678dbfdf07",
   "metadata": {},
   "source": [
    "### Importera alla språkbiblotek"
   ]
  },
  {
   "cell_type": "code",
   "execution_count": 25,
   "id": "152ef5ce-b3ac-493d-8d13-4e9847986667",
   "metadata": {},
   "outputs": [],
   "source": [
    "import pandas as pd\n",
    "import numpy as np\n",
    "import matplotlib.pyplot as plt"
   ]
  },
  {
   "cell_type": "markdown",
   "id": "2b9ee154-14dc-4b0d-82aa-dccd4eb22264",
   "metadata": {},
   "source": [
    "### Ta bort alla orelevanta features"
   ]
  },
  {
   "cell_type": "code",
   "execution_count": 26,
   "id": "fbfcb9f3-c69c-42ac-be47-c5812fdf703a",
   "metadata": {},
   "outputs": [],
   "source": [
    "df = pd.read_csv('diabetes_dataset.csv')\n",
    "df2 = df.drop(['Sex', 'Ethnicity'], axis=1)"
   ]
  },
  {
   "cell_type": "markdown",
   "id": "24359aaa-03b3-49f0-9b75-1b3133e2f159",
   "metadata": {},
   "source": [
    "### Alla listor för visualisering"
   ]
  },
  {
   "cell_type": "code",
   "execution_count": 27,
   "id": "17eb8463-ae87-484a-bd61-2b1060c6ffa7",
   "metadata": {},
   "outputs": [],
   "source": [
    "age_lista = []\n",
    "ageabove40_lista = []\n",
    "ageunder40_lista = []\n",
    "activity_lista = []\n",
    "activityint_lista = []\n",
    "activityabove40_lista = []\n",
    "activityunder40_lista = []\n",
    "calorieintake_lista =[]\n",
    "calorieintakeintabove40_lista = []\n",
    "calorieintakeintunder40_lista = []\n",
    "bloodpressuresystolic_lista = []\n",
    "bloodpressurediastolic_lista = []\n",
    "bloodglucose_lista =[]\n",
    "bloodpressuresystolicint_lista = []\n",
    "bloodpressurediastolicint_lista = []\n",
    "bloodglucoseint_lista =[]\n",
    "bloodpressuresystolicintabove40_lista = []\n",
    "bloodpressuresystolicintunder40_lista = []\n",
    "bloodpressurediastolicintabove40_lista = []\n",
    "bloodpressurediastolicintunder40_lista = []\n",
    "bloodglucoseintabove40_lista =[]\n",
    "bloodglucoseintunder40_lista =[]"
   ]
  },
  {
   "cell_type": "markdown",
   "id": "35ddb81d-49ab-44a7-a9bc-55a315a06cbb",
   "metadata": {},
   "source": [
    "### Tar ut features och gör dom till listor"
   ]
  },
  {
   "cell_type": "code",
   "execution_count": 28,
   "id": "7a73b034-7996-462f-b733-7f039a97d4e3",
   "metadata": {},
   "outputs": [],
   "source": [
    "\n",
    "import csv\n",
    "\n",
    "with open('diabetes_dataset.csv', newline='') as file:\n",
    "    reader = csv.DictReader(file)\n",
    "    for rad in reader:\n",
    "        age_lista.append(rad['Age'])\n",
    "        activity_lista.append(rad['Physical_Activity_Level'])\n",
    "        calorieintake_lista.append(rad['Dietary_Intake_Calories'])\n",
    "        bloodpressuresystolic_lista.append(rad['Blood_Pressure_Systolic'])\n",
    "        bloodpressurediastolic_lista.append(rad['Blood_Pressure_Diastolic'])\n",
    "        bloodglucose_lista.append(rad['Fasting_Blood_Glucose'])\n"
   ]
  },
  {
   "cell_type": "markdown",
   "id": "81e21c7e-2685-4c69-8e20-3143355c28f8",
   "metadata": {},
   "source": [
    "### Tar innehållet i Activity list converterar de till numbers"
   ]
  },
  {
   "cell_type": "code",
   "execution_count": 34,
   "id": "c9ba856a-de68-4e85-8f5a-122934f05c79",
   "metadata": {},
   "outputs": [],
   "source": [
    "for i in activity_lista:\n",
    "    if i == 'Low':\n",
    "        activityint_lista.append(1)\n",
    "    elif i == 'Moderate':\n",
    "        activityint_lista.append(2)\n",
    "    elif i == 'High':\n",
    "        activityint_lista.append(3)\n"
   ]
  },
  {
   "cell_type": "markdown",
   "id": "ea4eb87f-9c91-47df-8db2-7a88b42b1760",
   "metadata": {},
   "source": [
    "### Converterar list inehållen till integrers"
   ]
  },
  {
   "cell_type": "code",
   "execution_count": 43,
   "id": "8ce8144c-94a3-4109-b9f5-463ee9752fbf",
   "metadata": {},
   "outputs": [],
   "source": [
    "ageint_lista = [int(x) for x in age_lista]\n",
    "calorieintakeint_lista = [int(x) for x in calorieintake_lista]\n",
    "bloodpressuresystolicint_lista = [int(x) for x in bloodpressuresystolic_lista]\n",
    "bloodpressurediastolicint_lista = [int(x) for x in bloodpressurediastolic_lista]\n",
    "bloodglucoseint_lista = [float(x) for x in bloodglucose_lista]"
   ]
  },
  {
   "cell_type": "markdown",
   "id": "dada0e22-9d41-48d3-a0f1-6785144d185a",
   "metadata": {},
   "source": [
    "### Sepererar listorna till över 40 års åldern och under 40 års åldern"
   ]
  },
  {
   "cell_type": "code",
   "execution_count": 48,
   "id": "7fc18355-001f-4e55-9f3b-4f14251f3102",
   "metadata": {},
   "outputs": [],
   "source": [
    "for age, activity, calorie, systolic, diastolic, glucose in zip(ageint_lista, activityint_lista, calorieintakeint_lista, bloodpressuresystolicint_lista, bloodpressurediastolicint_lista, bloodglucoseint_lista):\n",
    "    if age >= 40:\n",
    "        ageabove40_lista.append(age)\n",
    "        activityabove40_lista.append(activity)\n",
    "        calorieintakeintabove40_lista.append(calorie)\n",
    "        bloodpressuresystolicintabove40_lista.append(systolic)\n",
    "        bloodpressurediastolicintabove40_lista.append(diastolic)\n",
    "        bloodglucoseintabove40_lista.append(glucose)\n",
    "        \n",
    "    else:\n",
    "        ageunder40_lista.append(age)\n",
    "        activityunder40_lista.append(activity)\n",
    "        calorieintakeintunder40_lista.append(calorie)\n",
    "        bloodpressuresystolicintunder40_lista.append(systolic)\n",
    "        bloodpressurediastolicintunder40_lista.append(diastolic)\n",
    "        bloodglucoseintunder40_lista.append(glucose)"
   ]
  },
  {
   "cell_type": "markdown",
   "id": "84ef6d3a-2b0f-4784-9cc7-fedc8f182117",
   "metadata": {},
   "source": [
    "### Får ut medelvärderna ur listorna"
   ]
  },
  {
   "cell_type": "code",
   "execution_count": 51,
   "id": "4541f7c4-1daf-4389-9632-675ff9e88a6b",
   "metadata": {},
   "outputs": [],
   "source": [
    "activityabove40medel_lista = sum(activityabove40_lista) / len(activityabove40_lista)\n",
    "activityunder40medel_lista = sum(activityunder40_lista) / len(activityunder40_lista)\n",
    "calorieintakeintabove40medel_lista = sum(calorieintakeintabove40_lista) / len(calorieintakeintabove40_lista)\n",
    "calorieintakeintunder40medel_lista = sum(calorieintakeintunder40_lista) / len(calorieintakeintunder40_lista)\n",
    "bloodpressuresystolicintabove40medel_lista = sum(bloodpressuresystolicintabove40_lista) / len(bloodpressuresystolicintabove40_lista)\n",
    "bloodpressuresystolicintunder40medel_lista = sum(bloodpressuresystolicintunder40_lista) / len(bloodpressuresystolicintunder40_lista)\n",
    "bloodpressurediastolicintabove40medel_lista = sum(bloodpressurediastolicintabove40_lista) / len(bloodpressurediastolicintabove40_lista)\n",
    "bloodpressurediastolicintunder40medel_lista = sum(bloodpressurediastolicintunder40_lista) / len(bloodpressurediastolicintunder40_lista)\n",
    "bloodglucoseintabove40medel_lista = sum(bloodglucoseintabove40_lista) / len(bloodglucoseintabove40_lista)\n",
    "bloodglucoseintunder40medel_lista = sum(bloodglucoseintunder40_lista) / len(bloodglucoseintunder40_lista)"
   ]
  },
  {
   "cell_type": "markdown",
   "id": "8758f5dc-6c5b-44aa-beca-897c7366da46",
   "metadata": {},
   "source": [
    "# AI"
   ]
  },
  {
   "cell_type": "markdown",
   "id": "687fca10-5a18-4eae-9707-6e2250f4b6c6",
   "metadata": {},
   "source": [
    "## Vilket typ av problem har jag?"
   ]
  },
  {
   "cell_type": "markdown",
   "id": "bcdb281e-27c0-4bb0-8470-8be71cbd3ec3",
   "metadata": {},
   "source": [
    "### Jag vill räkna ut risken för att användare kan utveckla diabetes beroende på deras input"
   ]
  },
  {
   "cell_type": "markdown",
   "id": "3e2d1917-7e25-4aad-b778-9b7c4a21cc21",
   "metadata": {},
   "source": [
    "### Vad är features och target"
   ]
  },
  {
   "cell_type": "markdown",
   "id": "84516c18-2304-43f2-b0a7-d7f5726d7b14",
   "metadata": {},
   "source": [
    "### Välj rätt modell"
   ]
  },
  {
   "cell_type": "markdown",
   "id": "2355336d-005f-4999-9873-59b579cba679",
   "metadata": {},
   "source": [
    "### Träning o test data"
   ]
  },
  {
   "cell_type": "markdown",
   "id": "97f8dc5d-a295-4df7-ac3c-f03150f0bb05",
   "metadata": {},
   "source": [
    "### Anpassa modell score"
   ]
  },
  {
   "cell_type": "markdown",
   "id": "b9ae9b4c-1530-4786-95c7-f788f83672fc",
   "metadata": {},
   "source": [
    "### Förbätrra modell"
   ]
  },
  {
   "cell_type": "code",
   "execution_count": null,
   "id": "2fe16c7f-a96b-488f-9e4a-c903be644b2c",
   "metadata": {},
   "outputs": [],
   "source": []
  }
 ],
 "metadata": {
  "kernelspec": {
   "display_name": "Python 3 (ipykernel)",
   "language": "python",
   "name": "python3"
  },
  "language_info": {
   "codemirror_mode": {
    "name": "ipython",
    "version": 3
   },
   "file_extension": ".py",
   "mimetype": "text/x-python",
   "name": "python",
   "nbconvert_exporter": "python",
   "pygments_lexer": "ipython3",
   "version": "3.12.7"
  }
 },
 "nbformat": 4,
 "nbformat_minor": 5
}
